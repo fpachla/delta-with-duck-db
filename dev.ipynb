{
 "cells": [
  {
   "cell_type": "code",
   "execution_count": 1,
   "metadata": {},
   "outputs": [
    {
     "data": {
      "text/html": [
       "<div><style>\n",
       ".dataframe > thead > tr > th,\n",
       ".dataframe > tbody > tr > td {\n",
       "  text-align: right;\n",
       "  white-space: pre-wrap;\n",
       "}\n",
       "</style>\n",
       "<small>shape: (10, 8)</small><table border=\"1\" class=\"dataframe\"><thead><tr><th>id</th><th>first_name</th><th>last_name</th><th>age</th><th>address</th><th>email</th><th>category</th><th>start_date</th></tr><tr><td>i64</td><td>str</td><td>str</td><td>i64</td><td>str</td><td>str</td><td>str</td><td>datetime[μs]</td></tr></thead><tbody><tr><td>0</td><td>&quot;James&quot;</td><td>&quot;Cole&quot;</td><td>24</td><td>&quot;5273 Scott Mea…</td><td>&quot;gmitchell@exam…</td><td>&quot;C&quot;</td><td>2023-01-01 00:00:00</td></tr><tr><td>1</td><td>&quot;Taylor&quot;</td><td>&quot;Mendoza&quot;</td><td>45</td><td>&quot;34551 Bennett …</td><td>&quot;uhenry@example…</td><td>&quot;A&quot;</td><td>2023-01-01 00:00:00</td></tr><tr><td>2</td><td>&quot;Elizabeth&quot;</td><td>&quot;Richards&quot;</td><td>22</td><td>&quot;PSC 4729, Box …</td><td>&quot;kramos@example…</td><td>&quot;C&quot;</td><td>2023-01-04 00:00:00</td></tr><tr><td>3</td><td>&quot;Sharon&quot;</td><td>&quot;Herman&quot;</td><td>35</td><td>&quot;598 Heather Po…</td><td>&quot;tperkins@examp…</td><td>&quot;B&quot;</td><td>2023-01-07 00:00:00</td></tr><tr><td>4</td><td>&quot;Taylor&quot;</td><td>&quot;Hernandez&quot;</td><td>77</td><td>&quot;52366 Shelly S…</td><td>&quot;emartinez@exam…</td><td>&quot;A&quot;</td><td>2023-01-07 00:00:00</td></tr><tr><td>5</td><td>&quot;Veronica&quot;</td><td>&quot;Drake&quot;</td><td>22</td><td>&quot;93090 Curtis U…</td><td>&quot;traviscochran@…</td><td>&quot;B&quot;</td><td>2023-01-10 00:00:00</td></tr><tr><td>6</td><td>&quot;Stephen&quot;</td><td>&quot;Cooper&quot;</td><td>60</td><td>&quot;Unit 4662 Box …</td><td>&quot;isnyder@exampl…</td><td>&quot;C&quot;</td><td>2023-01-13 00:00:00</td></tr><tr><td>7</td><td>&quot;Nancy&quot;</td><td>&quot;Preston&quot;</td><td>32</td><td>&quot;06053 Estrada …</td><td>&quot;bradleyjackson…</td><td>&quot;C&quot;</td><td>2023-01-15 00:00:00</td></tr><tr><td>8</td><td>&quot;Charles&quot;</td><td>&quot;Watson&quot;</td><td>52</td><td>&quot;0340 Flores Ex…</td><td>&quot;dlee@example.o…</td><td>&quot;C&quot;</td><td>2023-01-15 00:00:00</td></tr><tr><td>9</td><td>&quot;Melanie&quot;</td><td>&quot;Yang&quot;</td><td>20</td><td>&quot;PSC 0909, Box …</td><td>&quot;foxbryan@examp…</td><td>&quot;C&quot;</td><td>2023-01-18 00:00:00</td></tr></tbody></table></div>"
      ],
      "text/plain": [
       "shape: (10, 8)\n",
       "┌─────┬────────────┬───────────┬─────┬────────────────┬────────────────┬──────────┬────────────────┐\n",
       "│ id  ┆ first_name ┆ last_name ┆ age ┆ address        ┆ email          ┆ category ┆ start_date     │\n",
       "│ --- ┆ ---        ┆ ---       ┆ --- ┆ ---            ┆ ---            ┆ ---      ┆ ---            │\n",
       "│ i64 ┆ str        ┆ str       ┆ i64 ┆ str            ┆ str            ┆ str      ┆ datetime[μs]   │\n",
       "╞═════╪════════════╪═══════════╪═════╪════════════════╪════════════════╪══════════╪════════════════╡\n",
       "│ 0   ┆ James      ┆ Cole      ┆ 24  ┆ 5273 Scott     ┆ gmitchell@exam ┆ C        ┆ 2023-01-01     │\n",
       "│     ┆            ┆           ┆     ┆ Meadows Suite  ┆ ple.org        ┆          ┆ 00:00:00       │\n",
       "│     ┆            ┆           ┆     ┆ 067            ┆                ┆          ┆                │\n",
       "│     ┆            ┆           ┆     ┆ Por…           ┆                ┆          ┆                │\n",
       "│ 1   ┆ Taylor     ┆ Mendoza   ┆ 45  ┆ 34551 Bennett  ┆ uhenry@example ┆ A        ┆ 2023-01-01     │\n",
       "│     ┆            ┆           ┆     ┆ Rest           ┆ .net           ┆          ┆ 00:00:00       │\n",
       "│     ┆            ┆           ┆     ┆ South Brendas… ┆                ┆          ┆                │\n",
       "│ 2   ┆ Elizabeth  ┆ Richards  ┆ 22  ┆ PSC 4729, Box  ┆ kramos@example ┆ C        ┆ 2023-01-04     │\n",
       "│     ┆            ┆           ┆     ┆ 2204           ┆ .com           ┆          ┆ 00:00:00       │\n",
       "│     ┆            ┆           ┆     ┆ APO AA 28366   ┆                ┆          ┆                │\n",
       "│ 3   ┆ Sharon     ┆ Herman    ┆ 35  ┆ 598 Heather    ┆ tperkins@examp ┆ B        ┆ 2023-01-07     │\n",
       "│     ┆            ┆           ┆     ┆ Points Apt.    ┆ le.org         ┆          ┆ 00:00:00       │\n",
       "│     ┆            ┆           ┆     ┆ 025            ┆                ┆          ┆                │\n",
       "│     ┆            ┆           ┆     ┆ East…          ┆                ┆          ┆                │\n",
       "│ …   ┆ …          ┆ …         ┆ …   ┆ …              ┆ …              ┆ …        ┆ …              │\n",
       "│ 6   ┆ Stephen    ┆ Cooper    ┆ 60  ┆ Unit 4662 Box  ┆ isnyder@exampl ┆ C        ┆ 2023-01-13     │\n",
       "│     ┆            ┆           ┆     ┆ 7340           ┆ e.net          ┆          ┆ 00:00:00       │\n",
       "│     ┆            ┆           ┆     ┆ DPO AA 38845   ┆                ┆          ┆                │\n",
       "│ 7   ┆ Nancy      ┆ Preston   ┆ 32  ┆ 06053 Estrada  ┆ bradleyjackson ┆ C        ┆ 2023-01-15     │\n",
       "│     ┆            ┆           ┆     ┆ Inlet          ┆ @example.net   ┆          ┆ 00:00:00       │\n",
       "│     ┆            ┆           ┆     ┆ Shepherdmout…  ┆                ┆          ┆                │\n",
       "│ 8   ┆ Charles    ┆ Watson    ┆ 52  ┆ 0340 Flores    ┆ dlee@example.o ┆ C        ┆ 2023-01-15     │\n",
       "│     ┆            ┆           ┆     ┆ Extensions     ┆ rg             ┆          ┆ 00:00:00       │\n",
       "│     ┆            ┆           ┆     ┆ Suite 544…     ┆                ┆          ┆                │\n",
       "│ 9   ┆ Melanie    ┆ Yang      ┆ 20  ┆ PSC 0909, Box  ┆ foxbryan@examp ┆ C        ┆ 2023-01-18     │\n",
       "│     ┆            ┆           ┆     ┆ 9143           ┆ le.net         ┆          ┆ 00:00:00       │\n",
       "│     ┆            ┆           ┆     ┆ APO AP 43294   ┆                ┆          ┆                │\n",
       "└─────┴────────────┴───────────┴─────┴────────────────┴────────────────┴──────────┴────────────────┘"
      ]
     },
     "execution_count": 1,
     "metadata": {},
     "output_type": "execute_result"
    }
   ],
   "source": [
    "from src.fake_dataset import AccountBalanceModel\n",
    "import polars as pl\n",
    "model = AccountBalanceModel().new_model()\n",
    "model.people                     "
   ]
  },
  {
   "cell_type": "code",
   "execution_count": 10,
   "metadata": {},
   "outputs": [
    {
     "data": {
      "text/html": [
       "<div><style>\n",
       ".dataframe > thead > tr > th,\n",
       ".dataframe > tbody > tr > td {\n",
       "  text-align: right;\n",
       "  white-space: pre-wrap;\n",
       "}\n",
       "</style>\n",
       "<small>shape: (42, 8)</small><table border=\"1\" class=\"dataframe\"><thead><tr><th>id</th><th>first_name</th><th>last_name</th><th>age</th><th>address</th><th>email</th><th>category</th><th>start_date</th></tr><tr><td>i64</td><td>str</td><td>str</td><td>i64</td><td>str</td><td>str</td><td>str</td><td>datetime[μs]</td></tr></thead><tbody><tr><td>0</td><td>&quot;James&quot;</td><td>&quot;Cole&quot;</td><td>24</td><td>&quot;5273 Scott Mea…</td><td>&quot;gmitchell@exam…</td><td>&quot;C&quot;</td><td>2023-01-01 00:00:00</td></tr><tr><td>1</td><td>&quot;Taylor&quot;</td><td>&quot;Mendoza&quot;</td><td>45</td><td>&quot;34551 Bennett …</td><td>&quot;uhenry@example…</td><td>&quot;A&quot;</td><td>2023-01-01 00:00:00</td></tr><tr><td>2</td><td>&quot;Elizabeth&quot;</td><td>&quot;Richards&quot;</td><td>22</td><td>&quot;PSC 4729, Box …</td><td>&quot;kramos@example…</td><td>&quot;C&quot;</td><td>2023-01-04 00:00:00</td></tr><tr><td>3</td><td>&quot;Sharon&quot;</td><td>&quot;Herman&quot;</td><td>35</td><td>&quot;598 Heather Po…</td><td>&quot;tperkins@examp…</td><td>&quot;B&quot;</td><td>2023-01-07 00:00:00</td></tr><tr><td>4</td><td>&quot;Taylor&quot;</td><td>&quot;Hernandez&quot;</td><td>77</td><td>&quot;52366 Shelly S…</td><td>&quot;emartinez@exam…</td><td>&quot;A&quot;</td><td>2023-01-07 00:00:00</td></tr><tr><td>5</td><td>&quot;Veronica&quot;</td><td>&quot;Drake&quot;</td><td>22</td><td>&quot;93090 Curtis U…</td><td>&quot;traviscochran@…</td><td>&quot;B&quot;</td><td>2023-01-10 00:00:00</td></tr><tr><td>6</td><td>&quot;Stephen&quot;</td><td>&quot;Cooper&quot;</td><td>60</td><td>&quot;Unit 4662 Box …</td><td>&quot;isnyder@exampl…</td><td>&quot;C&quot;</td><td>2023-01-13 00:00:00</td></tr><tr><td>7</td><td>&quot;Nancy&quot;</td><td>&quot;Preston&quot;</td><td>32</td><td>&quot;06053 Estrada …</td><td>&quot;bradleyjackson…</td><td>&quot;C&quot;</td><td>2023-01-15 00:00:00</td></tr><tr><td>8</td><td>&quot;Charles&quot;</td><td>&quot;Watson&quot;</td><td>52</td><td>&quot;0340 Flores Ex…</td><td>&quot;dlee@example.o…</td><td>&quot;C&quot;</td><td>2023-01-15 00:00:00</td></tr><tr><td>9</td><td>&quot;Melanie&quot;</td><td>&quot;Yang&quot;</td><td>20</td><td>&quot;PSC 0909, Box …</td><td>&quot;foxbryan@examp…</td><td>&quot;C&quot;</td><td>2023-01-18 00:00:00</td></tr><tr><td>10</td><td>&quot;Kristin&quot;</td><td>&quot;Schneider&quot;</td><td>40</td><td>&quot;956 Jeremy Hav…</td><td>&quot;melaniecampos@…</td><td>&quot;B&quot;</td><td>2023-01-21 00:00:00</td></tr><tr><td>11</td><td>&quot;Jermaine&quot;</td><td>&quot;Proctor&quot;</td><td>64</td><td>&quot;83080 Duncan V…</td><td>&quot;thompsonhenry@…</td><td>&quot;A&quot;</td><td>2023-01-22 00:00:00</td></tr><tr><td>&hellip;</td><td>&hellip;</td><td>&hellip;</td><td>&hellip;</td><td>&hellip;</td><td>&hellip;</td><td>&hellip;</td><td>&hellip;</td></tr><tr><td>30</td><td>&quot;Victoria&quot;</td><td>&quot;Sellers&quot;</td><td>58</td><td>&quot;Unit 2586 Box …</td><td>&quot;aaron99@exampl…</td><td>&quot;C&quot;</td><td>2023-02-20 00:00:00</td></tr><tr><td>31</td><td>&quot;Jacob&quot;</td><td>&quot;White&quot;</td><td>69</td><td>&quot;92278 Jason Ma…</td><td>&quot;hgutierrez@exa…</td><td>&quot;B&quot;</td><td>2023-02-21 00:00:00</td></tr><tr><td>32</td><td>&quot;Paul&quot;</td><td>&quot;Tucker&quot;</td><td>44</td><td>&quot;351 Tina Islan…</td><td>&quot;joshua28@examp…</td><td>&quot;B&quot;</td><td>2023-02-24 00:00:00</td></tr><tr><td>33</td><td>&quot;Lisa&quot;</td><td>&quot;Mendez&quot;</td><td>27</td><td>&quot;2318 Park Plai…</td><td>&quot;robertmartin@e…</td><td>&quot;C&quot;</td><td>2023-02-25 00:00:00</td></tr><tr><td>34</td><td>&quot;Charles&quot;</td><td>&quot;Palmer&quot;</td><td>34</td><td>&quot;PSC 8452, Box …</td><td>&quot;cwright@exampl…</td><td>&quot;A&quot;</td><td>2023-02-28 00:00:00</td></tr><tr><td>35</td><td>&quot;Christopher&quot;</td><td>&quot;Johnson&quot;</td><td>52</td><td>&quot;216 Terry Orch…</td><td>&quot;sarah89@exampl…</td><td>&quot;A&quot;</td><td>2023-03-01 00:00:00</td></tr><tr><td>36</td><td>&quot;Thomas&quot;</td><td>&quot;Warner&quot;</td><td>30</td><td>&quot;0899 Diane Tur…</td><td>&quot;kellydelgado@e…</td><td>&quot;B&quot;</td><td>2023-03-04 00:00:00</td></tr><tr><td>37</td><td>&quot;Victoria&quot;</td><td>&quot;Santiago&quot;</td><td>23</td><td>&quot;1226 Brock Tun…</td><td>&quot;taylor97@examp…</td><td>&quot;C&quot;</td><td>2023-03-07 00:00:00</td></tr><tr><td>38</td><td>&quot;Joel&quot;</td><td>&quot;Werner&quot;</td><td>37</td><td>&quot;757 Graves Mal…</td><td>&quot;gduke@example.…</td><td>&quot;C&quot;</td><td>2023-03-09 00:00:00</td></tr><tr><td>39</td><td>&quot;Andrea&quot;</td><td>&quot;Knox&quot;</td><td>65</td><td>&quot;PSC 6809, Box …</td><td>&quot;meganbell@exam…</td><td>&quot;A&quot;</td><td>2023-03-09 00:00:00</td></tr><tr><td>40</td><td>&quot;Samuel&quot;</td><td>&quot;Nguyen&quot;</td><td>75</td><td>&quot;Unit 4404 Box …</td><td>&quot;phelpssean@exa…</td><td>&quot;C&quot;</td><td>2023-03-09 00:00:00</td></tr><tr><td>41</td><td>&quot;Caroline&quot;</td><td>&quot;Miller&quot;</td><td>18</td><td>&quot;60983 Conway W…</td><td>&quot;campbellkevin@…</td><td>&quot;A&quot;</td><td>2023-03-12 00:00:00</td></tr></tbody></table></div>"
      ],
      "text/plain": [
       "shape: (42, 8)\n",
       "┌─────┬────────────┬───────────┬─────┬────────────────┬────────────────┬──────────┬────────────────┐\n",
       "│ id  ┆ first_name ┆ last_name ┆ age ┆ address        ┆ email          ┆ category ┆ start_date     │\n",
       "│ --- ┆ ---        ┆ ---       ┆ --- ┆ ---            ┆ ---            ┆ ---      ┆ ---            │\n",
       "│ i64 ┆ str        ┆ str       ┆ i64 ┆ str            ┆ str            ┆ str      ┆ datetime[μs]   │\n",
       "╞═════╪════════════╪═══════════╪═════╪════════════════╪════════════════╪══════════╪════════════════╡\n",
       "│ 0   ┆ James      ┆ Cole      ┆ 24  ┆ 5273 Scott     ┆ gmitchell@exam ┆ C        ┆ 2023-01-01     │\n",
       "│     ┆            ┆           ┆     ┆ Meadows Suite  ┆ ple.org        ┆          ┆ 00:00:00       │\n",
       "│     ┆            ┆           ┆     ┆ 067            ┆                ┆          ┆                │\n",
       "│     ┆            ┆           ┆     ┆ Por…           ┆                ┆          ┆                │\n",
       "│ 1   ┆ Taylor     ┆ Mendoza   ┆ 45  ┆ 34551 Bennett  ┆ uhenry@example ┆ A        ┆ 2023-01-01     │\n",
       "│     ┆            ┆           ┆     ┆ Rest           ┆ .net           ┆          ┆ 00:00:00       │\n",
       "│     ┆            ┆           ┆     ┆ South Brendas… ┆                ┆          ┆                │\n",
       "│ 2   ┆ Elizabeth  ┆ Richards  ┆ 22  ┆ PSC 4729, Box  ┆ kramos@example ┆ C        ┆ 2023-01-04     │\n",
       "│     ┆            ┆           ┆     ┆ 2204           ┆ .com           ┆          ┆ 00:00:00       │\n",
       "│     ┆            ┆           ┆     ┆ APO AA 28366   ┆                ┆          ┆                │\n",
       "│ 3   ┆ Sharon     ┆ Herman    ┆ 35  ┆ 598 Heather    ┆ tperkins@examp ┆ B        ┆ 2023-01-07     │\n",
       "│     ┆            ┆           ┆     ┆ Points Apt.    ┆ le.org         ┆          ┆ 00:00:00       │\n",
       "│     ┆            ┆           ┆     ┆ 025            ┆                ┆          ┆                │\n",
       "│     ┆            ┆           ┆     ┆ East…          ┆                ┆          ┆                │\n",
       "│ …   ┆ …          ┆ …         ┆ …   ┆ …              ┆ …              ┆ …        ┆ …              │\n",
       "│ 38  ┆ Joel       ┆ Werner    ┆ 37  ┆ 757 Graves     ┆ gduke@example. ┆ C        ┆ 2023-03-09     │\n",
       "│     ┆            ┆           ┆     ┆ Mall           ┆ com            ┆          ┆ 00:00:00       │\n",
       "│     ┆            ┆           ┆     ┆ Port           ┆                ┆          ┆                │\n",
       "│     ┆            ┆           ┆     ┆ Melissaches…   ┆                ┆          ┆                │\n",
       "│ 39  ┆ Andrea     ┆ Knox      ┆ 65  ┆ PSC 6809, Box  ┆ meganbell@exam ┆ A        ┆ 2023-03-09     │\n",
       "│     ┆            ┆           ┆     ┆ 0792           ┆ ple.org        ┆          ┆ 00:00:00       │\n",
       "│     ┆            ┆           ┆     ┆ APO AA 94796   ┆                ┆          ┆                │\n",
       "│ 40  ┆ Samuel     ┆ Nguyen    ┆ 75  ┆ Unit 4404 Box  ┆ phelpssean@exa ┆ C        ┆ 2023-03-09     │\n",
       "│     ┆            ┆           ┆     ┆ 9732           ┆ mple.org       ┆          ┆ 00:00:00       │\n",
       "│     ┆            ┆           ┆     ┆ DPO AA 59681   ┆                ┆          ┆                │\n",
       "│ 41  ┆ Caroline   ┆ Miller    ┆ 18  ┆ 60983 Conway   ┆ campbellkevin@ ┆ A        ┆ 2023-03-12     │\n",
       "│     ┆            ┆           ┆     ┆ Well           ┆ example.org    ┆          ┆ 00:00:00       │\n",
       "│     ┆            ┆           ┆     ┆ Markport, OH   ┆                ┆          ┆                │\n",
       "│     ┆            ┆           ┆     ┆ 2…             ┆                ┆          ┆                │\n",
       "└─────┴────────────┴───────────┴─────┴────────────────┴────────────────┴──────────┴────────────────┘"
      ]
     },
     "execution_count": 10,
     "metadata": {},
     "output_type": "execute_result"
    }
   ],
   "source": [
    "import polars as pl\n",
    "pl.read_delta('./delta_tables/people/', version=2)"
   ]
  },
  {
   "cell_type": "code",
   "execution_count": 16,
   "metadata": {},
   "outputs": [
    {
     "name": "stdout",
     "output_type": "stream",
     "text": [
      "None None\n",
      "471 2025-01-04 00:00:00\n"
     ]
    },
    {
     "data": {
      "text/html": [
       "<div><style>\n",
       ".dataframe > thead > tr > th,\n",
       ".dataframe > tbody > tr > td {\n",
       "  text-align: right;\n",
       "  white-space: pre-wrap;\n",
       "}\n",
       "</style>\n",
       "<small>shape: (572, 8)</small><table border=\"1\" class=\"dataframe\"><thead><tr><th>id</th><th>first_name</th><th>last_name</th><th>age</th><th>address</th><th>email</th><th>category</th><th>start_date</th></tr><tr><td>i64</td><td>str</td><td>str</td><td>i64</td><td>str</td><td>str</td><td>str</td><td>datetime[μs]</td></tr></thead><tbody><tr><td>0</td><td>&quot;James&quot;</td><td>&quot;Cole&quot;</td><td>24</td><td>&quot;5273 Scott Mea…</td><td>&quot;gmitchell@exam…</td><td>&quot;C&quot;</td><td>2023-01-01 00:00:00</td></tr><tr><td>1</td><td>&quot;Taylor&quot;</td><td>&quot;Mendoza&quot;</td><td>45</td><td>&quot;34551 Bennett …</td><td>&quot;uhenry@example…</td><td>&quot;A&quot;</td><td>2023-01-01 00:00:00</td></tr><tr><td>2</td><td>&quot;Elizabeth&quot;</td><td>&quot;Richards&quot;</td><td>22</td><td>&quot;PSC 4729, Box …</td><td>&quot;kramos@example…</td><td>&quot;C&quot;</td><td>2023-01-04 00:00:00</td></tr><tr><td>3</td><td>&quot;Sharon&quot;</td><td>&quot;Herman&quot;</td><td>35</td><td>&quot;598 Heather Po…</td><td>&quot;tperkins@examp…</td><td>&quot;B&quot;</td><td>2023-01-07 00:00:00</td></tr><tr><td>4</td><td>&quot;Taylor&quot;</td><td>&quot;Hernandez&quot;</td><td>77</td><td>&quot;52366 Shelly S…</td><td>&quot;emartinez@exam…</td><td>&quot;A&quot;</td><td>2023-01-07 00:00:00</td></tr><tr><td>5</td><td>&quot;Veronica&quot;</td><td>&quot;Drake&quot;</td><td>22</td><td>&quot;93090 Curtis U…</td><td>&quot;traviscochran@…</td><td>&quot;B&quot;</td><td>2023-01-10 00:00:00</td></tr><tr><td>6</td><td>&quot;Stephen&quot;</td><td>&quot;Cooper&quot;</td><td>60</td><td>&quot;Unit 4662 Box …</td><td>&quot;isnyder@exampl…</td><td>&quot;C&quot;</td><td>2023-01-13 00:00:00</td></tr><tr><td>7</td><td>&quot;Nancy&quot;</td><td>&quot;Preston&quot;</td><td>32</td><td>&quot;06053 Estrada …</td><td>&quot;bradleyjackson…</td><td>&quot;C&quot;</td><td>2023-01-15 00:00:00</td></tr><tr><td>8</td><td>&quot;Charles&quot;</td><td>&quot;Watson&quot;</td><td>52</td><td>&quot;0340 Flores Ex…</td><td>&quot;dlee@example.o…</td><td>&quot;C&quot;</td><td>2023-01-15 00:00:00</td></tr><tr><td>9</td><td>&quot;Melanie&quot;</td><td>&quot;Yang&quot;</td><td>20</td><td>&quot;PSC 0909, Box …</td><td>&quot;foxbryan@examp…</td><td>&quot;C&quot;</td><td>2023-01-18 00:00:00</td></tr><tr><td>10</td><td>&quot;Kristin&quot;</td><td>&quot;Schneider&quot;</td><td>40</td><td>&quot;956 Jeremy Hav…</td><td>&quot;melaniecampos@…</td><td>&quot;B&quot;</td><td>2023-01-21 00:00:00</td></tr><tr><td>11</td><td>&quot;Jermaine&quot;</td><td>&quot;Proctor&quot;</td><td>64</td><td>&quot;83080 Duncan V…</td><td>&quot;thompsonhenry@…</td><td>&quot;A&quot;</td><td>2023-01-22 00:00:00</td></tr><tr><td>&hellip;</td><td>&hellip;</td><td>&hellip;</td><td>&hellip;</td><td>&hellip;</td><td>&hellip;</td><td>&hellip;</td><td>&hellip;</td></tr><tr><td>560</td><td>&quot;Sara&quot;</td><td>&quot;Vazquez&quot;</td><td>69</td><td>&quot;959 Michelle C…</td><td>&quot;zroberts@examp…</td><td>&quot;C&quot;</td><td>2025-05-29 00:00:00</td></tr><tr><td>561</td><td>&quot;Justin&quot;</td><td>&quot;Watson&quot;</td><td>64</td><td>&quot;48292 Scott Sq…</td><td>&quot;zwest@example.…</td><td>&quot;A&quot;</td><td>2025-06-01 00:00:00</td></tr><tr><td>562</td><td>&quot;April&quot;</td><td>&quot;Perry&quot;</td><td>36</td><td>&quot;57277 Thompson…</td><td>&quot;stevensmith@ex…</td><td>&quot;A&quot;</td><td>2025-06-02 00:00:00</td></tr><tr><td>563</td><td>&quot;Diane&quot;</td><td>&quot;Diaz&quot;</td><td>66</td><td>&quot;671 Julie Moun…</td><td>&quot;nallen@example…</td><td>&quot;C&quot;</td><td>2025-06-02 00:00:00</td></tr><tr><td>564</td><td>&quot;Theresa&quot;</td><td>&quot;Bryant&quot;</td><td>25</td><td>&quot;190 Jeffrey La…</td><td>&quot;ssloan@example…</td><td>&quot;A&quot;</td><td>2025-06-02 00:00:00</td></tr><tr><td>565</td><td>&quot;Daniel&quot;</td><td>&quot;Irwin&quot;</td><td>50</td><td>&quot;441 Zuniga Cir…</td><td>&quot;jennifershah@e…</td><td>&quot;B&quot;</td><td>2025-06-04 00:00:00</td></tr><tr><td>566</td><td>&quot;Keith&quot;</td><td>&quot;Carroll&quot;</td><td>18</td><td>&quot;725 Caroline C…</td><td>&quot;katherinelewis…</td><td>&quot;A&quot;</td><td>2025-06-05 00:00:00</td></tr><tr><td>567</td><td>&quot;Cheryl&quot;</td><td>&quot;White&quot;</td><td>72</td><td>&quot;700 Smith Vill…</td><td>&quot;pvasquez@examp…</td><td>&quot;B&quot;</td><td>2025-06-08 00:00:00</td></tr><tr><td>568</td><td>&quot;Lisa&quot;</td><td>&quot;Stewart&quot;</td><td>23</td><td>&quot;USS Johnson\n",
       "FP…</td><td>&quot;mossbradley@ex…</td><td>&quot;C&quot;</td><td>2025-06-09 00:00:00</td></tr><tr><td>569</td><td>&quot;Willie&quot;</td><td>&quot;Wright&quot;</td><td>63</td><td>&quot;9621 Heather V…</td><td>&quot;robert91@examp…</td><td>&quot;A&quot;</td><td>2025-06-09 00:00:00</td></tr><tr><td>570</td><td>&quot;Lisa&quot;</td><td>&quot;Jackson&quot;</td><td>33</td><td>&quot;657 Antonio Sp…</td><td>&quot;david94@exampl…</td><td>&quot;C&quot;</td><td>2025-06-12 00:00:00</td></tr><tr><td>571</td><td>&quot;Christopher&quot;</td><td>&quot;Mccoy&quot;</td><td>54</td><td>&quot;199 Martin For…</td><td>&quot;bethadams@exam…</td><td>&quot;A&quot;</td><td>2025-06-13 00:00:00</td></tr></tbody></table></div>"
      ],
      "text/plain": [
       "shape: (572, 8)\n",
       "┌─────┬─────────────┬───────────┬─────┬────────────────┬────────────────┬──────────┬───────────────┐\n",
       "│ id  ┆ first_name  ┆ last_name ┆ age ┆ address        ┆ email          ┆ category ┆ start_date    │\n",
       "│ --- ┆ ---         ┆ ---       ┆ --- ┆ ---            ┆ ---            ┆ ---      ┆ ---           │\n",
       "│ i64 ┆ str         ┆ str       ┆ i64 ┆ str            ┆ str            ┆ str      ┆ datetime[μs]  │\n",
       "╞═════╪═════════════╪═══════════╪═════╪════════════════╪════════════════╪══════════╪═══════════════╡\n",
       "│ 0   ┆ James       ┆ Cole      ┆ 24  ┆ 5273 Scott     ┆ gmitchell@exam ┆ C        ┆ 2023-01-01    │\n",
       "│     ┆             ┆           ┆     ┆ Meadows Suite  ┆ ple.org        ┆          ┆ 00:00:00      │\n",
       "│     ┆             ┆           ┆     ┆ 067            ┆                ┆          ┆               │\n",
       "│     ┆             ┆           ┆     ┆ Por…           ┆                ┆          ┆               │\n",
       "│ 1   ┆ Taylor      ┆ Mendoza   ┆ 45  ┆ 34551 Bennett  ┆ uhenry@example ┆ A        ┆ 2023-01-01    │\n",
       "│     ┆             ┆           ┆     ┆ Rest           ┆ .net           ┆          ┆ 00:00:00      │\n",
       "│     ┆             ┆           ┆     ┆ South Brendas… ┆                ┆          ┆               │\n",
       "│ 2   ┆ Elizabeth   ┆ Richards  ┆ 22  ┆ PSC 4729, Box  ┆ kramos@example ┆ C        ┆ 2023-01-04    │\n",
       "│     ┆             ┆           ┆     ┆ 2204           ┆ .com           ┆          ┆ 00:00:00      │\n",
       "│     ┆             ┆           ┆     ┆ APO AA 28366   ┆                ┆          ┆               │\n",
       "│ 3   ┆ Sharon      ┆ Herman    ┆ 35  ┆ 598 Heather    ┆ tperkins@examp ┆ B        ┆ 2023-01-07    │\n",
       "│     ┆             ┆           ┆     ┆ Points Apt.    ┆ le.org         ┆          ┆ 00:00:00      │\n",
       "│     ┆             ┆           ┆     ┆ 025            ┆                ┆          ┆               │\n",
       "│     ┆             ┆           ┆     ┆ East…          ┆                ┆          ┆               │\n",
       "│ …   ┆ …           ┆ …         ┆ …   ┆ …              ┆ …              ┆ …        ┆ …             │\n",
       "│ 568 ┆ Lisa        ┆ Stewart   ┆ 23  ┆ USS Johnson    ┆ mossbradley@ex ┆ C        ┆ 2025-06-09    │\n",
       "│     ┆             ┆           ┆     ┆ FPO AA 34401   ┆ ample.com      ┆          ┆ 00:00:00      │\n",
       "│ 569 ┆ Willie      ┆ Wright    ┆ 63  ┆ 9621 Heather   ┆ robert91@examp ┆ A        ┆ 2025-06-09    │\n",
       "│     ┆             ┆           ┆     ┆ Views Apt. 030 ┆ le.com         ┆          ┆ 00:00:00      │\n",
       "│     ┆             ┆           ┆     ┆ West…          ┆                ┆          ┆               │\n",
       "│ 570 ┆ Lisa        ┆ Jackson   ┆ 33  ┆ 657 Antonio    ┆ david94@exampl ┆ C        ┆ 2025-06-12    │\n",
       "│     ┆             ┆           ┆     ┆ Springs        ┆ e.org          ┆          ┆ 00:00:00      │\n",
       "│     ┆             ┆           ┆     ┆ North Scott,…  ┆                ┆          ┆               │\n",
       "│ 571 ┆ Christopher ┆ Mccoy     ┆ 54  ┆ 199 Martin     ┆ bethadams@exam ┆ A        ┆ 2025-06-13    │\n",
       "│     ┆             ┆           ┆     ┆ Forks          ┆ ple.org        ┆          ┆ 00:00:00      │\n",
       "│     ┆             ┆           ┆     ┆ Harmonchester, ┆                ┆          ┆               │\n",
       "│     ┆             ┆           ┆     ┆ …              ┆                ┆          ┆               │\n",
       "└─────┴─────────────┴───────────┴─────┴────────────────┴────────────────┴──────────┴───────────────┘"
      ]
     },
     "execution_count": 16,
     "metadata": {},
     "output_type": "execute_result"
    }
   ],
   "source": [
    "from src.fake_dataset import AccountBalanceModel\n",
    "import polars as pl\n",
    "model = (AccountBalanceModel().load()\n",
    "                              .add_records(50)\n",
    "                              .save()\n",
    "                            )\n",
    "model.people"
   ]
  },
  {
   "cell_type": "code",
   "execution_count": null,
   "metadata": {},
   "outputs": [],
   "source": [
    "pl.read_delta('./delta_tables/people', version=3)"
   ]
  },
  {
   "cell_type": "code",
   "execution_count": 17,
   "metadata": {},
   "outputs": [
    {
     "name": "stdout",
     "output_type": "stream",
     "text": [
      "None None\n",
      "571 2025-06-13 00:00:00\n"
     ]
    },
    {
     "data": {
      "text/html": [
       "<div><style>\n",
       ".dataframe > thead > tr > th,\n",
       ".dataframe > tbody > tr > td {\n",
       "  text-align: right;\n",
       "  white-space: pre-wrap;\n",
       "}\n",
       "</style>\n",
       "<small>shape: (572, 2)</small><table border=\"1\" class=\"dataframe\"><thead><tr><th>id</th><th>counts</th></tr><tr><td>i64</td><td>u32</td></tr></thead><tbody><tr><td>31</td><td>1</td></tr><tr><td>477</td><td>1</td></tr><tr><td>275</td><td>1</td></tr><tr><td>301</td><td>1</td></tr><tr><td>23</td><td>1</td></tr><tr><td>248</td><td>1</td></tr><tr><td>175</td><td>1</td></tr><tr><td>438</td><td>1</td></tr><tr><td>7</td><td>1</td></tr><tr><td>121</td><td>1</td></tr><tr><td>196</td><td>1</td></tr><tr><td>475</td><td>1</td></tr><tr><td>&hellip;</td><td>&hellip;</td></tr><tr><td>278</td><td>1</td></tr><tr><td>335</td><td>1</td></tr><tr><td>344</td><td>1</td></tr><tr><td>524</td><td>1</td></tr><tr><td>140</td><td>1</td></tr><tr><td>525</td><td>1</td></tr><tr><td>538</td><td>1</td></tr><tr><td>28</td><td>1</td></tr><tr><td>42</td><td>1</td></tr><tr><td>512</td><td>1</td></tr><tr><td>117</td><td>1</td></tr><tr><td>568</td><td>1</td></tr></tbody></table></div>"
      ],
      "text/plain": [
       "shape: (572, 2)\n",
       "┌─────┬────────┐\n",
       "│ id  ┆ counts │\n",
       "│ --- ┆ ---    │\n",
       "│ i64 ┆ u32    │\n",
       "╞═════╪════════╡\n",
       "│ 31  ┆ 1      │\n",
       "│ 477 ┆ 1      │\n",
       "│ 275 ┆ 1      │\n",
       "│ 301 ┆ 1      │\n",
       "│ …   ┆ …      │\n",
       "│ 42  ┆ 1      │\n",
       "│ 512 ┆ 1      │\n",
       "│ 117 ┆ 1      │\n",
       "│ 568 ┆ 1      │\n",
       "└─────┴────────┘"
      ]
     },
     "execution_count": 17,
     "metadata": {},
     "output_type": "execute_result"
    }
   ],
   "source": [
    "model_ = AccountBalanceModel().load()\n",
    "\n",
    "model_.people.select('id').to_series().value_counts()"
   ]
  },
  {
   "cell_type": "code",
   "execution_count": null,
   "metadata": {},
   "outputs": [],
   "source": [
    "model_.people"
   ]
  },
  {
   "cell_type": "code",
   "execution_count": null,
   "metadata": {},
   "outputs": [],
   "source": [
    "import polars as pl\n",
    "(model.account_balance\n",
    "                    .filter(pl.col('person_id') == 9)\n",
    "                    .select(pl.max('date'))\n",
    "                    .to_series()\n",
    "                    .to_list()[-1])"
   ]
  },
  {
   "cell_type": "code",
   "execution_count": null,
   "metadata": {},
   "outputs": [],
   "source": [
    "model.add_records()\n",
    "model.people"
   ]
  },
  {
   "cell_type": "code",
   "execution_count": null,
   "metadata": {},
   "outputs": [],
   "source": [
    "model.add_records()\n",
    "model.people, model.account_balance"
   ]
  }
 ],
 "metadata": {
  "kernelspec": {
   "display_name": "Python 3",
   "language": "python",
   "name": "python3"
  },
  "language_info": {
   "codemirror_mode": {
    "name": "ipython",
    "version": 3
   },
   "file_extension": ".py",
   "mimetype": "text/x-python",
   "name": "python",
   "nbconvert_exporter": "python",
   "pygments_lexer": "ipython3",
   "version": "3.11.4"
  }
 },
 "nbformat": 4,
 "nbformat_minor": 2
}
